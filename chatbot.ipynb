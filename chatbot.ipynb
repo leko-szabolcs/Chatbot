{
  "cells": [
    {
      "cell_type": "markdown",
      "metadata": {
        "id": "hcNm2td8bCEi"
      },
      "source": [
        "# Visszakeresés alapú magyar nyelvű chatbot program:\n",
        "\n"
      ]
    },
    {
      "cell_type": "markdown",
      "metadata": {
        "id": "WbiakJjBcEAI"
      },
      "source": [
        "1.Importálom a szükséges könyvtárakat:"
      ]
    },
    {
      "cell_type": "code",
      "execution_count": null,
      "metadata": {
        "id": "ZNkHcnfDa_LS"
      },
      "outputs": [],
      "source": [
        "#!pip install spacy\n",
        "#!pip install scikit-learn\n",
        "import spacy #én ezt használom, hogy magyar nyelven listázzam a magukban értelmetlen szavakat.\n",
        "import string # tud stringekkel dolgozni\n",
        "import json # tud json fájllal dolgozni (betölteni)\n",
        "from sklearn.feature_extraction.text import CountVectorizer # szöveg numerikus vektorrá alakításhoz\n",
        "from sklearn.model_selection import train_test_split # adatok képzési és tesztelése készletekre osztásához\n",
        "from sklearn.linear_model import LogisticRegression #logiszikai regressziós modellhez\n",
        "from sklearn.preprocessing import LabelEncoder # címkék numerikus ábrázolásához\n",
        "import random # kiválasztáshoz\n",
        "from sklearn.ensemble import RandomForestClassifier #döntési fák generálásához\n",
        "from sklearn.feature_extraction.text import TfidfVectorizer #szöveges dokumentum -> TF-IDF Mátrix\n",
        "from sklearn.svm import SVC # Support Vector Machines osztályozó"
      ]
    },
    {
      "cell_type": "markdown",
      "metadata": {
        "id": "TORZISDueha2"
      },
      "source": [
        "2.Létrehozom a stopwords listát:\n"
      ]
    },
    {
      "cell_type": "code",
      "execution_count": null,
      "metadata": {
        "id": "a_YpM6nSYsYl"
      },
      "outputs": [],
      "source": [
        "nlp = spacy.blank(\"xx\") # Általános tokenizátor, nyelvspecifikus modellek nélkül, mert a magyar verzió nem működik.\n",
        "\n",
        "hungarian_stopwords = set([\n",
        "    'a', 'az', 'abba', 'abban', 'abból', 'addig', 'ahhoz', 'ahogy', 'ahol', 'aki', 'akik', 'akkor', 'akár', 'alapján',\n",
        "    'alatt', 'alatta', 'alá', 'alól', 'amely', 'amelyek', 'amelyekben', 'amelyeket', 'amelyet', 'amelynek', 'ami',\n",
        "    'amikor', 'amit', 'amolyan', 'amíg', 'annak', 'arra', 'arról', 'attól', 'az', 'aznap', 'azok', 'azokat', 'azokba',\n",
        "    'azokban', 'azokból', 'azokhoz', 'azokig', 'azokkal', 'azokká', 'azoknak', 'azoknál', 'azokon', 'azokra', 'azokról',\n",
        "    'azoktól', 'azon', 'azonban', 'azonnal', 'azt', 'aztán', 'azután', 'azzal', 'azért', 'be', 'belé', 'beléd', 'beléjük',\n",
        "    'belém', 'belénk', 'belétek', 'belül', 'benne', 'benned', 'bennem', 'bennetek', 'bennük', 'bennünk', 'bár', 'bárcsak',\n",
        "    'bármilyen', 'csak', 'de', 'egy', 'egyből', 'egyedül', 'egyelőre', 'egyes', 'egyet', 'egyetlen', 'egyik', 'egymás',\n",
        "    'egyre', 'egyszer', 'egyéb', 'együtt', 'ehhez', 'ekkor', 'el', 'eleinte', 'ellen', 'ellenes', 'elleni', 'ellenére',\n",
        "    'elmondta', 'első', 'elsők', 'elsősorban', 'elé', 'elég', 'elő', 'előbb', 'elől', 'előle', 'előled', 'előlem',\n",
        "    'előletek', 'előlük', 'először', 'előtt', 'előtte', 'előtted', 'előttem', 'előttetek', 'előttük', 'előttünk', 'emilyen',\n",
        "    'ennek', 'ennyi', 'ennél', 'enyém', 'erre', 'erről', 'esetben', 'ettől', 'ez', 'ezek', 'ezekbe', 'ezekben', 'ezekből',\n",
        "    'ezeken', 'ezeket', 'ezekhez', 'ezekig', 'ezekkel', 'ezekké', 'ezeknek', 'ezeknél', 'ezekre', 'ezekről', 'ezektől',\n",
        "    'ezért', 'fel', 'felé', 'fölé', 'ha', 'halló', 'hanem', 'hiszen', 'hiába', 'hogy', 'hogyan', 'hol', 'holnap', 'honnan',\n",
        "    'hova', 'hozzá', 'hozzád', 'hozzájuk', 'hozzám', 'hozzánk', 'hozzátok', 'igen', 'ill', 'illetve', 'ilyen', 'inkább',\n",
        "    'is', 'ismét', 'itt', 'jó', 'jól', 'jobban', 'kell', 'kellene', 'kellett', 'keressünk', 'keresztül', 'kevés', 'ki',\n",
        "    'kicsit', 'kik', 'kilenc', 'kin', 'kinek', 'kinél', 'kire', 'kiről', 'kit', 'kitől', 'kivel', 'körül', 'közben', 'között',\n",
        "    'közül', 'külön', 'különben', 'lassan', 'le', 'legalább', 'legyen', 'lehet', 'lehetetlen', 'lehetett', 'lenne', 'lenni',\n",
        "    'lett', 'lévő', 'ma', 'maga', 'magad', 'magam', 'magatokat', 'magukat', 'magunkat', 'magát', 'mai', 'majd', 'majdnem',\n",
        "    'meg', 'megint', 'megvan', 'mellett', 'mellette', 'melletted', 'mellettem', 'mellettetek', 'mellettük', 'mellettünk',\n",
        "    'mely', 'melyek', 'mennyire', 'mennyi', 'mert', 'mi', 'miatt', 'miatta', 'miben', 'miből', 'micsoda', 'miért', 'mikor',\n",
        "    'mikorra', 'mind', 'mindegy', 'minden', 'mindenki', 'mindig', 'minél', 'mint', 'mintha', 'mivel', 'most', 'nagy',\n",
        "    'nagyon', 'ne', 'nélkül', 'nincs', 'nyolc', 'nyolcadik', 'olyan', 'on', 'ott', 'pedig', 'persze', 'sem', 'semmi',\n",
        "    'sok', 'sokat', 'sokkal', 'során', 'számára', 'szemben', 'szerint', 'szinte', 'talán', 'tartozik', 'tovább', 'továbbá',\n",
        "    'több', 'úgy', 'ugyanis', 'új', 'újra', 'után', 'utána', 'vagy', 'valami', 'valamikor', 'valamint', 'való', 'van',\n",
        "    'vannak', 'volt', 'voltam', 'voltak', 'voltunk', 'vele', 'viszont', 'volna', 'alá', 'bele', 'felé', 'hát', 'ide', 'oda',\n",
        "    'össze', 'szét', 'vissza', 'rá', 'át', 'igen', 'nem', 'én', 'te', 'ő', 'mi', 'ti', 'ők', 'ön', 'magunk', 'akár', 'annak',\n",
        "    'arra', 'arról', 'azon', 'azt', 'azzal', 'azonban', 'e', 'eddig', 'egyéb', 'egyszer', 'első', 'éppen', 'ez', 'ezen',\n",
        "    'ezért', 'ha', 'hanem', 'hiszen', 'így', 'ilyenkor', 'ismét', 'itt', 'jó', 'jól', 'keresztül', 'kívül', 'lehet', 'magát',\n",
        "    'magukat', 'mellett', 'mert', 'mivel', 'most', 'nagyon', 'ne', 'nincs', 'olyan', 'ott', 'pedig', 'sem', 'sok', 'szerint',\n",
        "    'talán', 'tovább', 'úgy', 'új', 'után', 'vagy', 'valaki', 'valami', 'vannak', 'volt', 'voltam', 'voltak', 'voltunk',\n",
        "    'velem', 'velük', 'lesz', 'lett', 'magunk', 'sajnos', 'külön', 'pont', 'esetleg', 'mind', 'kis', 'szó', 'akit', 'amit',\n",
        "    'valamit', 'valamiért', 'magam', 'mindneki', 'mindenkinek', 'mindenkit',\n",
        "    'evvel', 'tőle', 'tőlem', 'tőlünk', 'tőletek', 'tőlük', 'és'\n",
        "])\n"
      ]
    },
    {
      "cell_type": "markdown",
      "metadata": {
        "id": "gttv8nmBlEr5"
      },
      "source": [
        "3.A magyar szöveg tokenizálása:\n",
        "\n"
      ]
    },
    {
      "cell_type": "code",
      "execution_count": null,
      "metadata": {
        "colab": {
          "base_uri": "https://localhost:8080/"
        },
        "id": "9tjN7OQmXkNs",
        "outputId": "ce2e6dae-0bd6-4cb5-c9d8-8dd2e1dcc45c"
      },
      "outputs": [
        {
          "output_type": "stream",
          "name": "stdout",
          "text": [
            "['helló']\n"
          ]
        }
      ],
      "source": [
        "def preprocess_hungarian_text(text): #tokenizálás. Tokenizáló nyelvspecifikus modell nélkül szavakká alakítja a szöveget.\n",
        "    doc = nlp(text.lower())\n",
        "    cleaned_words = [token.text for token in doc if token.text not in hungarian_stopwords and token.text not in string.punctuation] # Kiszűri az egyéni stopszavakat és írásjeleket.\n",
        "\n",
        "    return cleaned_words\n",
        "\n",
        "sentence = \"Helló! Hogy vagy ma?\"\n",
        "cleaned_text = preprocess_hungarian_text(sentence)\n",
        "print(cleaned_text)"
      ]
    },
    {
      "cell_type": "markdown",
      "metadata": {
        "id": "zo5gEf2psHS9"
      },
      "source": [
        "4. \"Intents\" json fájl létrehozása, jegyzetfüzethez adása és betöltése:"
      ]
    },
    {
      "cell_type": "code",
      "execution_count": null,
      "metadata": {
        "id": "lFPXoYvnb4AZ"
      },
      "outputs": [],
      "source": [
        "with open('intents.json', encoding='utf-8') as file:\n",
        "    intents = json.load(file)"
      ]
    },
    {
      "cell_type": "markdown",
      "metadata": {
        "id": "8Ie1k3hZ0yW_"
      },
      "source": [
        "5.Szöveg vektorizálása:"
      ]
    },
    {
      "cell_type": "markdown",
      "metadata": {
        "id": "cB2hH_iJ395E"
      },
      "source": [
        "5.1. Korpusz (gyűjtemény) látrehozása:"
      ]
    },
    {
      "cell_type": "code",
      "execution_count": null,
      "metadata": {
        "id": "K0gGK-H51Fhz"
      },
      "outputs": [],
      "source": [
        "corpus = [] #patterns, bemeneti minták\n",
        "labels = [] #tag, címke\n",
        "\n",
        "for intent in intents['intents']:\n",
        "    for pattern in intent['patterns']:\n",
        "        # Minden minta tokineizálása és előfeldolgozása.\n",
        "        corpus.append(' '.join(preprocess_hungarian_text(pattern))) # A szavak összeillesztése mondattá és hozzáfűzés a gyűjteményhez\n",
        "        labels.append(intent['tag']) #címke hozzáfűzése"
      ]
    },
    {
      "cell_type": "markdown",
      "metadata": {
        "id": "mS1gkpir6Gg3"
      },
      "source": [
        "5.2. Vektorizáljuk a korpuszt a CountVectorizer-rel. Korpus -> BoW mátrix (átalakítás)"
      ]
    },
    {
      "cell_type": "code",
      "execution_count": null,
      "metadata": {
        "colab": {
          "base_uri": "https://localhost:8080/"
        },
        "id": "31ne-yGQ6hg4",
        "outputId": "064d89ff-7c66-4de2-d57c-b99398203a71"
      },
      "outputs": [
        {
          "output_type": "stream",
          "name": "stdout",
          "text": [
            "Szókincs: ['adat' 'adatokat' 'adatokhoz' 'add' 'adhatnál' 'adhatnál nekem'\n",
            " 'adhatnál részleteket' 'adni' 'adni nekem' 'adni tanácsot' 'ajánlani'\n",
            " 'ajánlasz' 'ajánlasz rendelésre' 'akartam' 'akartam mondani' 'alakul'\n",
            " 'alakul idő' 'alakul időjárás' 'alakul nálad' 'alakulnak'\n",
            " 'alakulnak árak' 'alig' 'alig bírom' 'alig várom' 'alkalmas'\n",
            " 'alkalmas időpont' 'alkalom' 'asztalt' 'asztalt foglalni'\n",
            " 'asztalt nálatok' 'benyújtani' 'beszélgetést' 'beszélhetünk'\n",
            " 'beszélhetünk még' 'beszéljünk' 'beszéljünk még' 'beszélni' 'beszéltünk'\n",
            " 'beszélünk' 'biztos' 'biztos információ' 'biztosan' 'biztosra'\n",
            " 'biztosra vehetjük' 'bocsánat' 'bocsánat akartam'\n",
            " 'bocsánat kellemetlenségért' 'bocsánatot' 'bocsánatot kérek' 'bocsátani'\n",
            " 'bocsátani egymásnak' 'bírom' 'bírom kivárni' 'bízz' 'bízz magadban'\n",
            " 'büszke' 'büszke vagyok' 'bővebben' 'bővebben beszélni' 'csinálni'\n",
            " 'csinálsz' 'csinálsz mostanában' 'csináltál' 'csodálatos' 'célomat'\n",
            " 'dolgok' 'díja' 'ebben' 'egyetértek' 'egyetértek veled' 'egyeztethetnénk'\n",
            " 'egyeztethetnénk időpontot' 'egyeztethetünk' 'egyeztethetünk időpontot'\n",
            " 'egyeztethetünk találkozót' 'egyeztetni' 'egymásnak' 'elakadtam'\n",
            " 'elakadtam tudnál' 'elbúcsúzom' 'elfogadni' 'elhinni' 'elhiszem'\n",
            " 'elhiszem ezt' 'elköszönök' 'elnézést' 'elnézést hibáztam' 'elrontottam'\n",
            " 'elégedett' 'elégedett ezzel' 'elégedett szolgáltatással' 'elérhető'\n",
            " 'elérhető rendelési' 'elérhetők' 'előre' 'előre foglalni' 'erősíteni'\n",
            " 'esernyőt' 'esik' 'esik eső' 'esni' 'esni fog' 'este' 'estére' 'estét'\n",
            " 'eső' 'ezt' 'ezt akartam' 'ezt biztosra' 'ezt fogadom' 'ezt helyet'\n",
            " 'ezt információt' 'ezt kértem' 'ezt szerettem' 'ezt tudom' 'ezt értetted'\n",
            " 'ezzel' 'ezzel helyzettel' 'ezzel kapcsolatban' 'ezzel teljesen'\n",
            " 'fantasztikus' 'feltételei' 'fizetni' 'fizetni érte' 'fog' 'fog kerülni'\n",
            " 'fog változni' 'fogadom' 'fogadom ezt' 'foglalhatnék'\n",
            " 'foglalhatnék időpontot' 'foglalhatok' 'foglalhatok asztalt'\n",
            " 'foglalhatok időpontot' 'foglalhatok nálatok' 'foglalni'\n",
            " 'foglalni asztalt' 'foglalni estére' 'foglalni helyet'\n",
            " 'foglalni szeretnék' 'foglalás' 'foglalásban' 'fok' 'folytasd'\n",
            " 'folytasd menni' 'folytassuk' 'folytassuk beszélgetést' 'folytatás'\n",
            " 'folytatásra' 'fordulhatok' 'fordulhatok panaszommal' 'félreértésért'\n",
            " 'gond' 'gond elrontottam' 'gondolom' 'gyorsan' 'gyorsan rendelni'\n",
            " 'hallhatnék' 'hallhatnék viccet' 'hamarosan' 'hamarosan találkozunk'\n",
            " 'haragudj' 'haragudj hibáztam' 'helló' 'hely' 'helyes' 'helyes adat'\n",
            " 'helyes információ' 'helyes irány' 'helyet' 'helyet foglalni' 'helyzet'\n",
            " 'helyzettel' 'hibáztam' 'hideg' 'hideg este' 'higgy' 'higgy magadban'\n",
            " 'hiszem' 'humoros' 'humoros poént' 'humoros viccet' 'hálás'\n",
            " 'hálás vagyok' 'hálásan' 'hálásan köszönöm' 'hány' 'hány fok' 'hé'\n",
            " 'hétvégéd' 'hír' 'hűvös' 'hűvös kint' 'idő' 'idő várható' 'időjárás'\n",
            " 'időpont' 'időpontban' 'időpontod' 'időpontok' 'időpontok elérhetők'\n",
            " 'időpontok szabadok' 'időpontot' 'időpontot ajánlani'\n",
            " 'időpontot egyeztetni' 'időpontot foglalni' 'időpontot megbeszélni'\n",
            " 'igaz' 'igazad' 'igazán' 'igazán segítőkész' 'igénybe' 'igénybe venni'\n",
            " 'induljak' 'információ' 'információd' 'információid' 'információkat'\n",
            " 'információkat tudsz' 'információra' 'információt' 'információt adni'\n",
            " 'információval' 'információval szolgálsz' 'irány' 'irányba'\n",
            " 'irányba menjek' 'irányt' 'irányt mutatni' 'irányítani' 'irányítást'\n",
            " 'irányítást adni' 'izgatott' 'izgatott vagyok' 'jelent' 'jelent nekem'\n",
            " 'jelezni' 'jelezni problémámat' 'juthatok' 'juthatok további' 'jutok'\n",
            " 'jutok legközelebbi' 'jutok város' 'jót' 'kapcsolatban' 'kaphatok'\n",
            " 'kaphatok részletesebb' 'kaptam' 'kaptam ígérték' 'kedves' 'kedves tőled'\n",
            " 'kedvezmény' 'kellemetlenségért' 'kerül' 'kerül termék' 'kerülni'\n",
            " 'kifogásom' 'kint' 'kint esik' 'kiszolgálás' 'kiváló' 'kiváló munka'\n",
            " 'kivárni' 'kéne' 'kéne segítség' 'képes' 'kérek' 'kérek félreértésért'\n",
            " 'kérem' 'kérem segíts' 'kérhetek' 'kérhetek segítséget' 'kérhetem'\n",
            " 'kérhetem segítséged' 'kérlek' 'kérni' 'kértem' 'késlekedtem' 'később'\n",
            " 'később találkozunk' 'kíváncsi' 'kíváncsi vagyok' 'költsége' 'köszi'\n",
            " 'köszi jelent' 'köszi szépen' 'köszönet' 'köszönet mindenért'\n",
            " 'köszönet érte' 'köszönöm' 'köszönöm igazán' 'köszönöm segítségedet'\n",
            " 'köszönöm segítséget' 'köszönöm szia' 'köszönöm szépen'\n",
            " 'köszönöm támogatást' 'köszönöm válaszodat' 'következő'\n",
            " 'következő alkalom' 'következő találkozást' 'központjába' 'leadhatok'\n",
            " 'leadhatok rendelést' 'leadni' 'leadni rendelést' 'legközelebbi'\n",
            " 'legközelebbi étteremhez' 'lehetne' 'lehetne találkozni' 'lehetséges'\n",
            " 'lehetséges rendelni' 'lehetőségek' 'lássalak' 'lépés' 'magadban'\n",
            " 'magadra' 'megbeszélni' 'megbeszélni időpontot' 'megerősíted'\n",
            " 'megerősíted ezt' 'megerősítenéd' 'megerősítenéd információt'\n",
            " 'megerősítheted' 'megerősítheted nekem' 'megfelelő' 'megfelelő időpont'\n",
            " 'megfelelő kiszolgálás' 'megfelelő termék' 'megoldás' 'megosztanád'\n",
            " 'megosztanád információkat' 'megtudni' 'megvenni' 'megy' 'meleg'\n",
            " 'meleg odakint' 'melyik' 'melyik időpontban' 'melyik irányba' 'melyik út'\n",
            " 'melyik úton' 'menjek' 'mennek' 'mennek dolgok' 'mennem' 'menni'\n",
            " 'menni fog' 'mennyibe' 'mennyibe fog' 'mennyibe kerül' 'mennyit'\n",
            " 'mennyit fizetni' 'mennyiért' 'mennyiért igénybe' 'mennyiért megvenni'\n",
            " 'merre' 'merre hely' 'merre induljak' 'merre menjek' 'merre mennem'\n",
            " 'merre található' 'mesélj' 'mesélj még' 'mesélj poént'\n",
            " 'mesélj szórakoztatót' 'mesélj történt' 'mesélnél' 'mesélnél viccet'\n",
            " 'mesélsz' 'mesélsz még' 'mesélsz viccet' 'mik' 'mik rendelés'\n",
            " 'mik rendelési' 'milyen' 'milyen hétvégéd' 'milyen idő' 'milyen időjárás'\n",
            " 'milyen időpontok' 'milyen információid' 'milyen információkat'\n",
            " 'milyen információval' 'milyen árban' 'milyen árkategóriában'\n",
            " 'milyen áron' 'mindenért' 'mit' 'mit ajánlasz' 'mit csinálsz'\n",
            " 'mit fizetni' 'mit rendelni' 'mit tegyek' 'mit tudsz' 'mondani'\n",
            " 'mondani információkat' 'mondani merre' 'mondani utat' 'mondanál'\n",
            " 'mondanál humoros' 'mondj' 'mondj humoros' 'mondj még' 'mondj poénosat'\n",
            " 'mondj poént' 'mondj vicceset' 'mondj viccet' 'mondod' 'mostanában'\n",
            " 'mozog' 'munka' 'munkát' 'munkát végeztél' 'mutatni' 'már'\n",
            " 'már következő' 'már számolom' 'már várom' 'még' 'még mondani'\n",
            " 'még szabad' 'mértékben' 'mértékben egyetértek' 'mértékben igazad'\n",
            " 'működik' 'működik rendelés' 'na' 'na szia' 'nap' 'napod' 'napokat'\n",
            " 'napot' 'nekem' 'nekem ebben' 'nekem információkat' 'nekem információt'\n",
            " 'nekem segíteni' 'nevettess' 'nevettess viccel' 'nevettetnél' 'nálad'\n",
            " 'nálatok' 'nálatok helyet' 'némi' 'némi információra' 'odakint' 'oké'\n",
            " 'oké nálad' 'online' 'online foglalni' 'online rendelni' 'opció'\n",
            " 'panaszkodni' 'panaszom' 'panaszommal' 'panaszt' 'panaszt szeretnék'\n",
            " 'panaszt tenni' 'pizzát' 'pontos' 'pontos adat' 'pontosan' 'pontosan ezt'\n",
            " 'pontosan gondolom' 'poénosat' 'poént' 'probléma'\n",
            " 'probléma rendelésemmel' 'problémám' 'problémám ezzel' 'problémámat'\n",
            " 'reggelt' 'reklamálni' 'remélem' 'remélem alakul' 'remélem gond'\n",
            " 'remélem hamarosan' 'remélem tudunk' 'rendben' 'rendben nálad'\n",
            " 'rendelhetek' 'rendelhetnék' 'rendelni' 'rendelni pizzát'\n",
            " 'rendelni szeretnék' 'rendelés' 'rendelés feltételei' 'rendelésemmel'\n",
            " 'rendelési' 'rendelési lehetőségek' 'rendelési opció' 'rendelésre'\n",
            " 'rendelést' 'rendelést kérni' 'rendelést leadni' 'rosszul' 'rád'\n",
            " 'részleteket' 'részletesebb' 'részletesebb adatokat' 'sajnálom'\n",
            " 'sajnálom késlekedtem' 'sajnálom történt' 'segíteni' 'segíteni ezzel'\n",
            " 'segíteni foglalásban' 'segíteni merre' 'segíteni nekem' 'segítenél'\n",
            " 'segítenél információval' 'segítenél nekem' 'segítenél útvonalban'\n",
            " 'segítesz' 'segítesz kérlek' 'segített' 'segíts' 'segíts kérlek'\n",
            " 'segíts tudom' 'segítség' 'segítséged' 'segítségedet' 'segítséget'\n",
            " 'segítségre' 'segítségre szükségem' 'segítőkész' 'sikerülni'\n",
            " 'sikerülni fog' 'stimmel' 'szabad' 'szabad hely' 'szabad időpontod'\n",
            " 'szabadok' 'szeretnék' 'szeretnék asztalt' 'szeretnék benyújtani'\n",
            " 'szeretnék előre' 'szeretnék helyet' 'szeretnék időpontot'\n",
            " 'szeretnék online' 'szeretnék panaszkodni' 'szeretnék panaszt'\n",
            " 'szeretnék reklamálni' 'szeretnék rendelni' 'szeretnék rendelést'\n",
            " 'szeretnék ételt' 'szeretném' 'szeretném jelezni' 'szeretném megbeszélni'\n",
            " 'szerettem' 'szia' 'szia helyzet' 'szia megy' 'szia mostanában'\n",
            " 'szia rendben' 'szia találkozunk' 'szia vigyázz' 'szia érzed'\n",
            " 'szia újság' 'sziasztok' 'szolgálsz' 'szolgáltatásnak' 'szolgáltatással'\n",
            " 'szuper' 'számolom' 'számolom napokat' 'szél' 'szép' 'szép estét'\n",
            " 'szép munka' 'szép napod' 'szép napot' 'szépen' 'szórakoztatót' 'szóval'\n",
            " 'szóval már' 'szükségem' 'szükségem némi' 'szükségem segítségre'\n",
            " 'szükségem tanácsodra' 'süt' 'süt nap' 'találhatok' 'találhatok adatokat'\n",
            " 'található' 'található hely' 'található épület' 'találkozhatunk'\n",
            " 'találkozni' 'találkozunk' 'találkozunk később' 'találkozást'\n",
            " 'találkozót' 'találom' 'találom ezt' 'találom információkat' 'tanácsodra'\n",
            " 'tanácsot' 'tegyek' 'tegyük' 'tegyük találkozót' 'tehetek'\n",
            " 'tehetek panaszt' 'telik' 'telik napod' 'teljes' 'teljes mértékben'\n",
            " 'teljesen' 'teljesen egyetértek' 'teljesen igazad' 'teljesen stimmel'\n",
            " 'teljesen tudok' 'tenni' 'termék' 'tetszik' 'tetszik csináltál'\n",
            " 'tetszik nekem' 'tetszik történt' 'további' 'további adatokhoz' 'tréfa'\n",
            " 'tréfálkozni' 'tréfát' 'tud' 'tud időpontot' 'tudnád' 'tudnád mondani'\n",
            " 'tudnál' 'tudnál bővebben' 'tudnál irányt' 'tudnál irányítani'\n",
            " 'tudnál irányítást' 'tudnál nekem' 'tudnál segíteni' 'tudnál árat'\n",
            " 'tudnék' 'tudnék asztalt' 'tudnék többet' 'tudod' 'tudod csinálni'\n",
            " 'tudod erősíteni' 'tudod mondani' 'tudok' 'tudok foglalni'\n",
            " 'tudok időpontot' 'tudok leadni' 'tudok online' 'tudok panaszt'\n",
            " 'tudok rendelni' 'tudok többet' 'tudok érteni' 'tudom' 'tudom elfogadni'\n",
            " 'tudom elhinni' 'tudom mit' 'tudom sikerülni' 'tudsz' 'tudsz adni'\n",
            " 'tudsz mondani' 'tudsz még' 'tudsz segíteni' 'tudsz tenni'\n",
            " 'tudsz tréfálkozni' 'tudsz tréfát' 'tudsz viccet' 'tudunk'\n",
            " 'tudunk bocsátani' 'tudunk időpontot' 'támogatást' 'tényleg'\n",
            " 'tényleg igaz' 'tényleg szuper' 'téves' 'téves információ' 'többet'\n",
            " 'többet megtudni' 'történik' 'történik foglalás' 'történt'\n",
            " 'történt veled' 'tőled' 'utat' 'vagyok' 'vagyok elégedett'\n",
            " 'vagyok folytatásra' 'vagyok következő' 'vagyok rád' 'valóban'\n",
            " 'valóban helyzet' 'vehetjük' 'veled' 'veled mostanában' 'venni' 'viccel'\n",
            " 'vicces' 'vicceset' 'viccet' 'viccet mondani' 'vigyem' 'vigyem esernyőt'\n",
            " 'vigyázz' 'vigyázz magadra' 'vihar' 'viszlát' 'viszlát beszélünk'\n",
            " 'viszlát később' 'viszlát remélem' 'viszlát vigyázz' 'viszlát örültem'\n",
            " 'válaszodat' 'változni' 'változni időjárás' 'várható' 'várom'\n",
            " 'várom beszéljünk' 'várom lássalak' 'várom már' 'város'\n",
            " 'város központjába' 'vártam' 'végeztél' 'ára' 'ára szolgáltatásnak'\n",
            " 'árak' 'árat' 'árat mondani' 'árban' 'árkategóriában'\n",
            " 'árkategóriában mozog' 'árkedvezmény' 'árképzés' 'árlista' 'áron'\n",
            " 'áron érhető' 'éjt' 'épület' 'ér' 'érdekel' 'érdekel folytatás' 'érek'\n",
            " 'érem' 'érem célomat' 'érhető' 'érte' 'értek' 'érteni' 'értetted' 'érzed'\n",
            " 'érzed rosszul' 'ételt' 'étteremhez' 'ígérték' 'önnek' 'önnek megfelelő'\n",
            " 'örültem' 'örültem beszéltünk' 'újság' 'újság veled' 'út' 'út helyes'\n",
            " 'úton' 'úton mennem' 'útvonalban' 'üdv' 'üdvözöllek' 'ügyes']\n",
            "Minták numerikus ábrázolása: [[0. 0. 0. ... 0. 0. 0.]\n",
            " [0. 0. 0. ... 0. 0. 0.]\n",
            " [0. 0. 0. ... 1. 0. 0.]\n",
            " ...\n",
            " [0. 0. 0. ... 0. 0. 0.]\n",
            " [0. 0. 0. ... 0. 0. 0.]\n",
            " [0. 0. 0. ... 0. 0. 0.]]\n"
          ]
        }
      ],
      "source": [
        "vectorizer = TfidfVectorizer(ngram_range=(1, 2)) #inicializálás\n",
        "\n",
        "X = vectorizer.fit_transform(corpus).toarray() # Vektorizálót ráilleszti a korpuszra és átalakítja  a korpuszt numerikus formába\n",
        "\n",
        "encoder = LabelEncoder()\n",
        "Y = encoder.fit_transform(labels) # Konvertálja a címkéket számokká\n",
        "\n",
        "\n",
        "print(\"Szókincs:\", vectorizer.get_feature_names_out())\n",
        "print(\"Minták numerikus ábrázolása:\", X)"
      ]
    },
    {
      "cell_type": "markdown",
      "metadata": {
        "id": "FhVGwQjQFbJz"
      },
      "source": [
        "6.Modell elkészítése:"
      ]
    },
    {
      "cell_type": "markdown",
      "metadata": {
        "id": "uBx-fBTjHbAu"
      },
      "source": [
        "6.1. Felosztjuk az adatokat:"
      ]
    },
    {
      "cell_type": "code",
      "execution_count": null,
      "metadata": {
        "id": "uz921RMiGPzU"
      },
      "outputs": [],
      "source": [
        "X_train, X_test, Y_train, Y_test = train_test_split(X, Y, test_size=0.2, random_state=100) # 80% edzésre és 20% kiértékelésre bontottam.\n",
        "# edzéshez használt minták: X_train\n",
        "# kiértékelési minták: X_test\n",
        "# edzéshez használt címkék: Y_train\n",
        "# kiértékelési címkék: Y_test"
      ]
    },
    {
      "cell_type": "markdown",
      "metadata": {
        "id": "uya8G-baHqIk"
      },
      "source": [
        "6.2. Be kell tanítani az adatokat:"
      ]
    },
    {
      "cell_type": "code",
      "execution_count": null,
      "metadata": {
        "colab": {
          "base_uri": "https://localhost:8080/",
          "height": 80
        },
        "id": "G-aO-KzHH7T7",
        "outputId": "d6c3895e-97a6-476a-8fe5-521e31ef3598"
      },
      "outputs": [
        {
          "output_type": "execute_result",
          "data": {
            "text/plain": [
              "RandomForestClassifier(min_samples_split=20, n_estimators=300)"
            ],
            "text/html": [
              "<style>#sk-container-id-1 {\n",
              "  /* Definition of color scheme common for light and dark mode */\n",
              "  --sklearn-color-text: black;\n",
              "  --sklearn-color-line: gray;\n",
              "  /* Definition of color scheme for unfitted estimators */\n",
              "  --sklearn-color-unfitted-level-0: #fff5e6;\n",
              "  --sklearn-color-unfitted-level-1: #f6e4d2;\n",
              "  --sklearn-color-unfitted-level-2: #ffe0b3;\n",
              "  --sklearn-color-unfitted-level-3: chocolate;\n",
              "  /* Definition of color scheme for fitted estimators */\n",
              "  --sklearn-color-fitted-level-0: #f0f8ff;\n",
              "  --sklearn-color-fitted-level-1: #d4ebff;\n",
              "  --sklearn-color-fitted-level-2: #b3dbfd;\n",
              "  --sklearn-color-fitted-level-3: cornflowerblue;\n",
              "\n",
              "  /* Specific color for light theme */\n",
              "  --sklearn-color-text-on-default-background: var(--sg-text-color, var(--theme-code-foreground, var(--jp-content-font-color1, black)));\n",
              "  --sklearn-color-background: var(--sg-background-color, var(--theme-background, var(--jp-layout-color0, white)));\n",
              "  --sklearn-color-border-box: var(--sg-text-color, var(--theme-code-foreground, var(--jp-content-font-color1, black)));\n",
              "  --sklearn-color-icon: #696969;\n",
              "\n",
              "  @media (prefers-color-scheme: dark) {\n",
              "    /* Redefinition of color scheme for dark theme */\n",
              "    --sklearn-color-text-on-default-background: var(--sg-text-color, var(--theme-code-foreground, var(--jp-content-font-color1, white)));\n",
              "    --sklearn-color-background: var(--sg-background-color, var(--theme-background, var(--jp-layout-color0, #111)));\n",
              "    --sklearn-color-border-box: var(--sg-text-color, var(--theme-code-foreground, var(--jp-content-font-color1, white)));\n",
              "    --sklearn-color-icon: #878787;\n",
              "  }\n",
              "}\n",
              "\n",
              "#sk-container-id-1 {\n",
              "  color: var(--sklearn-color-text);\n",
              "}\n",
              "\n",
              "#sk-container-id-1 pre {\n",
              "  padding: 0;\n",
              "}\n",
              "\n",
              "#sk-container-id-1 input.sk-hidden--visually {\n",
              "  border: 0;\n",
              "  clip: rect(1px 1px 1px 1px);\n",
              "  clip: rect(1px, 1px, 1px, 1px);\n",
              "  height: 1px;\n",
              "  margin: -1px;\n",
              "  overflow: hidden;\n",
              "  padding: 0;\n",
              "  position: absolute;\n",
              "  width: 1px;\n",
              "}\n",
              "\n",
              "#sk-container-id-1 div.sk-dashed-wrapped {\n",
              "  border: 1px dashed var(--sklearn-color-line);\n",
              "  margin: 0 0.4em 0.5em 0.4em;\n",
              "  box-sizing: border-box;\n",
              "  padding-bottom: 0.4em;\n",
              "  background-color: var(--sklearn-color-background);\n",
              "}\n",
              "\n",
              "#sk-container-id-1 div.sk-container {\n",
              "  /* jupyter's `normalize.less` sets `[hidden] { display: none; }`\n",
              "     but bootstrap.min.css set `[hidden] { display: none !important; }`\n",
              "     so we also need the `!important` here to be able to override the\n",
              "     default hidden behavior on the sphinx rendered scikit-learn.org.\n",
              "     See: https://github.com/scikit-learn/scikit-learn/issues/21755 */\n",
              "  display: inline-block !important;\n",
              "  position: relative;\n",
              "}\n",
              "\n",
              "#sk-container-id-1 div.sk-text-repr-fallback {\n",
              "  display: none;\n",
              "}\n",
              "\n",
              "div.sk-parallel-item,\n",
              "div.sk-serial,\n",
              "div.sk-item {\n",
              "  /* draw centered vertical line to link estimators */\n",
              "  background-image: linear-gradient(var(--sklearn-color-text-on-default-background), var(--sklearn-color-text-on-default-background));\n",
              "  background-size: 2px 100%;\n",
              "  background-repeat: no-repeat;\n",
              "  background-position: center center;\n",
              "}\n",
              "\n",
              "/* Parallel-specific style estimator block */\n",
              "\n",
              "#sk-container-id-1 div.sk-parallel-item::after {\n",
              "  content: \"\";\n",
              "  width: 100%;\n",
              "  border-bottom: 2px solid var(--sklearn-color-text-on-default-background);\n",
              "  flex-grow: 1;\n",
              "}\n",
              "\n",
              "#sk-container-id-1 div.sk-parallel {\n",
              "  display: flex;\n",
              "  align-items: stretch;\n",
              "  justify-content: center;\n",
              "  background-color: var(--sklearn-color-background);\n",
              "  position: relative;\n",
              "}\n",
              "\n",
              "#sk-container-id-1 div.sk-parallel-item {\n",
              "  display: flex;\n",
              "  flex-direction: column;\n",
              "}\n",
              "\n",
              "#sk-container-id-1 div.sk-parallel-item:first-child::after {\n",
              "  align-self: flex-end;\n",
              "  width: 50%;\n",
              "}\n",
              "\n",
              "#sk-container-id-1 div.sk-parallel-item:last-child::after {\n",
              "  align-self: flex-start;\n",
              "  width: 50%;\n",
              "}\n",
              "\n",
              "#sk-container-id-1 div.sk-parallel-item:only-child::after {\n",
              "  width: 0;\n",
              "}\n",
              "\n",
              "/* Serial-specific style estimator block */\n",
              "\n",
              "#sk-container-id-1 div.sk-serial {\n",
              "  display: flex;\n",
              "  flex-direction: column;\n",
              "  align-items: center;\n",
              "  background-color: var(--sklearn-color-background);\n",
              "  padding-right: 1em;\n",
              "  padding-left: 1em;\n",
              "}\n",
              "\n",
              "\n",
              "/* Toggleable style: style used for estimator/Pipeline/ColumnTransformer box that is\n",
              "clickable and can be expanded/collapsed.\n",
              "- Pipeline and ColumnTransformer use this feature and define the default style\n",
              "- Estimators will overwrite some part of the style using the `sk-estimator` class\n",
              "*/\n",
              "\n",
              "/* Pipeline and ColumnTransformer style (default) */\n",
              "\n",
              "#sk-container-id-1 div.sk-toggleable {\n",
              "  /* Default theme specific background. It is overwritten whether we have a\n",
              "  specific estimator or a Pipeline/ColumnTransformer */\n",
              "  background-color: var(--sklearn-color-background);\n",
              "}\n",
              "\n",
              "/* Toggleable label */\n",
              "#sk-container-id-1 label.sk-toggleable__label {\n",
              "  cursor: pointer;\n",
              "  display: block;\n",
              "  width: 100%;\n",
              "  margin-bottom: 0;\n",
              "  padding: 0.5em;\n",
              "  box-sizing: border-box;\n",
              "  text-align: center;\n",
              "}\n",
              "\n",
              "#sk-container-id-1 label.sk-toggleable__label-arrow:before {\n",
              "  /* Arrow on the left of the label */\n",
              "  content: \"▸\";\n",
              "  float: left;\n",
              "  margin-right: 0.25em;\n",
              "  color: var(--sklearn-color-icon);\n",
              "}\n",
              "\n",
              "#sk-container-id-1 label.sk-toggleable__label-arrow:hover:before {\n",
              "  color: var(--sklearn-color-text);\n",
              "}\n",
              "\n",
              "/* Toggleable content - dropdown */\n",
              "\n",
              "#sk-container-id-1 div.sk-toggleable__content {\n",
              "  max-height: 0;\n",
              "  max-width: 0;\n",
              "  overflow: hidden;\n",
              "  text-align: left;\n",
              "  /* unfitted */\n",
              "  background-color: var(--sklearn-color-unfitted-level-0);\n",
              "}\n",
              "\n",
              "#sk-container-id-1 div.sk-toggleable__content.fitted {\n",
              "  /* fitted */\n",
              "  background-color: var(--sklearn-color-fitted-level-0);\n",
              "}\n",
              "\n",
              "#sk-container-id-1 div.sk-toggleable__content pre {\n",
              "  margin: 0.2em;\n",
              "  border-radius: 0.25em;\n",
              "  color: var(--sklearn-color-text);\n",
              "  /* unfitted */\n",
              "  background-color: var(--sklearn-color-unfitted-level-0);\n",
              "}\n",
              "\n",
              "#sk-container-id-1 div.sk-toggleable__content.fitted pre {\n",
              "  /* unfitted */\n",
              "  background-color: var(--sklearn-color-fitted-level-0);\n",
              "}\n",
              "\n",
              "#sk-container-id-1 input.sk-toggleable__control:checked~div.sk-toggleable__content {\n",
              "  /* Expand drop-down */\n",
              "  max-height: 200px;\n",
              "  max-width: 100%;\n",
              "  overflow: auto;\n",
              "}\n",
              "\n",
              "#sk-container-id-1 input.sk-toggleable__control:checked~label.sk-toggleable__label-arrow:before {\n",
              "  content: \"▾\";\n",
              "}\n",
              "\n",
              "/* Pipeline/ColumnTransformer-specific style */\n",
              "\n",
              "#sk-container-id-1 div.sk-label input.sk-toggleable__control:checked~label.sk-toggleable__label {\n",
              "  color: var(--sklearn-color-text);\n",
              "  background-color: var(--sklearn-color-unfitted-level-2);\n",
              "}\n",
              "\n",
              "#sk-container-id-1 div.sk-label.fitted input.sk-toggleable__control:checked~label.sk-toggleable__label {\n",
              "  background-color: var(--sklearn-color-fitted-level-2);\n",
              "}\n",
              "\n",
              "/* Estimator-specific style */\n",
              "\n",
              "/* Colorize estimator box */\n",
              "#sk-container-id-1 div.sk-estimator input.sk-toggleable__control:checked~label.sk-toggleable__label {\n",
              "  /* unfitted */\n",
              "  background-color: var(--sklearn-color-unfitted-level-2);\n",
              "}\n",
              "\n",
              "#sk-container-id-1 div.sk-estimator.fitted input.sk-toggleable__control:checked~label.sk-toggleable__label {\n",
              "  /* fitted */\n",
              "  background-color: var(--sklearn-color-fitted-level-2);\n",
              "}\n",
              "\n",
              "#sk-container-id-1 div.sk-label label.sk-toggleable__label,\n",
              "#sk-container-id-1 div.sk-label label {\n",
              "  /* The background is the default theme color */\n",
              "  color: var(--sklearn-color-text-on-default-background);\n",
              "}\n",
              "\n",
              "/* On hover, darken the color of the background */\n",
              "#sk-container-id-1 div.sk-label:hover label.sk-toggleable__label {\n",
              "  color: var(--sklearn-color-text);\n",
              "  background-color: var(--sklearn-color-unfitted-level-2);\n",
              "}\n",
              "\n",
              "/* Label box, darken color on hover, fitted */\n",
              "#sk-container-id-1 div.sk-label.fitted:hover label.sk-toggleable__label.fitted {\n",
              "  color: var(--sklearn-color-text);\n",
              "  background-color: var(--sklearn-color-fitted-level-2);\n",
              "}\n",
              "\n",
              "/* Estimator label */\n",
              "\n",
              "#sk-container-id-1 div.sk-label label {\n",
              "  font-family: monospace;\n",
              "  font-weight: bold;\n",
              "  display: inline-block;\n",
              "  line-height: 1.2em;\n",
              "}\n",
              "\n",
              "#sk-container-id-1 div.sk-label-container {\n",
              "  text-align: center;\n",
              "}\n",
              "\n",
              "/* Estimator-specific */\n",
              "#sk-container-id-1 div.sk-estimator {\n",
              "  font-family: monospace;\n",
              "  border: 1px dotted var(--sklearn-color-border-box);\n",
              "  border-radius: 0.25em;\n",
              "  box-sizing: border-box;\n",
              "  margin-bottom: 0.5em;\n",
              "  /* unfitted */\n",
              "  background-color: var(--sklearn-color-unfitted-level-0);\n",
              "}\n",
              "\n",
              "#sk-container-id-1 div.sk-estimator.fitted {\n",
              "  /* fitted */\n",
              "  background-color: var(--sklearn-color-fitted-level-0);\n",
              "}\n",
              "\n",
              "/* on hover */\n",
              "#sk-container-id-1 div.sk-estimator:hover {\n",
              "  /* unfitted */\n",
              "  background-color: var(--sklearn-color-unfitted-level-2);\n",
              "}\n",
              "\n",
              "#sk-container-id-1 div.sk-estimator.fitted:hover {\n",
              "  /* fitted */\n",
              "  background-color: var(--sklearn-color-fitted-level-2);\n",
              "}\n",
              "\n",
              "/* Specification for estimator info (e.g. \"i\" and \"?\") */\n",
              "\n",
              "/* Common style for \"i\" and \"?\" */\n",
              "\n",
              ".sk-estimator-doc-link,\n",
              "a:link.sk-estimator-doc-link,\n",
              "a:visited.sk-estimator-doc-link {\n",
              "  float: right;\n",
              "  font-size: smaller;\n",
              "  line-height: 1em;\n",
              "  font-family: monospace;\n",
              "  background-color: var(--sklearn-color-background);\n",
              "  border-radius: 1em;\n",
              "  height: 1em;\n",
              "  width: 1em;\n",
              "  text-decoration: none !important;\n",
              "  margin-left: 1ex;\n",
              "  /* unfitted */\n",
              "  border: var(--sklearn-color-unfitted-level-1) 1pt solid;\n",
              "  color: var(--sklearn-color-unfitted-level-1);\n",
              "}\n",
              "\n",
              ".sk-estimator-doc-link.fitted,\n",
              "a:link.sk-estimator-doc-link.fitted,\n",
              "a:visited.sk-estimator-doc-link.fitted {\n",
              "  /* fitted */\n",
              "  border: var(--sklearn-color-fitted-level-1) 1pt solid;\n",
              "  color: var(--sklearn-color-fitted-level-1);\n",
              "}\n",
              "\n",
              "/* On hover */\n",
              "div.sk-estimator:hover .sk-estimator-doc-link:hover,\n",
              ".sk-estimator-doc-link:hover,\n",
              "div.sk-label-container:hover .sk-estimator-doc-link:hover,\n",
              ".sk-estimator-doc-link:hover {\n",
              "  /* unfitted */\n",
              "  background-color: var(--sklearn-color-unfitted-level-3);\n",
              "  color: var(--sklearn-color-background);\n",
              "  text-decoration: none;\n",
              "}\n",
              "\n",
              "div.sk-estimator.fitted:hover .sk-estimator-doc-link.fitted:hover,\n",
              ".sk-estimator-doc-link.fitted:hover,\n",
              "div.sk-label-container:hover .sk-estimator-doc-link.fitted:hover,\n",
              ".sk-estimator-doc-link.fitted:hover {\n",
              "  /* fitted */\n",
              "  background-color: var(--sklearn-color-fitted-level-3);\n",
              "  color: var(--sklearn-color-background);\n",
              "  text-decoration: none;\n",
              "}\n",
              "\n",
              "/* Span, style for the box shown on hovering the info icon */\n",
              ".sk-estimator-doc-link span {\n",
              "  display: none;\n",
              "  z-index: 9999;\n",
              "  position: relative;\n",
              "  font-weight: normal;\n",
              "  right: .2ex;\n",
              "  padding: .5ex;\n",
              "  margin: .5ex;\n",
              "  width: min-content;\n",
              "  min-width: 20ex;\n",
              "  max-width: 50ex;\n",
              "  color: var(--sklearn-color-text);\n",
              "  box-shadow: 2pt 2pt 4pt #999;\n",
              "  /* unfitted */\n",
              "  background: var(--sklearn-color-unfitted-level-0);\n",
              "  border: .5pt solid var(--sklearn-color-unfitted-level-3);\n",
              "}\n",
              "\n",
              ".sk-estimator-doc-link.fitted span {\n",
              "  /* fitted */\n",
              "  background: var(--sklearn-color-fitted-level-0);\n",
              "  border: var(--sklearn-color-fitted-level-3);\n",
              "}\n",
              "\n",
              ".sk-estimator-doc-link:hover span {\n",
              "  display: block;\n",
              "}\n",
              "\n",
              "/* \"?\"-specific style due to the `<a>` HTML tag */\n",
              "\n",
              "#sk-container-id-1 a.estimator_doc_link {\n",
              "  float: right;\n",
              "  font-size: 1rem;\n",
              "  line-height: 1em;\n",
              "  font-family: monospace;\n",
              "  background-color: var(--sklearn-color-background);\n",
              "  border-radius: 1rem;\n",
              "  height: 1rem;\n",
              "  width: 1rem;\n",
              "  text-decoration: none;\n",
              "  /* unfitted */\n",
              "  color: var(--sklearn-color-unfitted-level-1);\n",
              "  border: var(--sklearn-color-unfitted-level-1) 1pt solid;\n",
              "}\n",
              "\n",
              "#sk-container-id-1 a.estimator_doc_link.fitted {\n",
              "  /* fitted */\n",
              "  border: var(--sklearn-color-fitted-level-1) 1pt solid;\n",
              "  color: var(--sklearn-color-fitted-level-1);\n",
              "}\n",
              "\n",
              "/* On hover */\n",
              "#sk-container-id-1 a.estimator_doc_link:hover {\n",
              "  /* unfitted */\n",
              "  background-color: var(--sklearn-color-unfitted-level-3);\n",
              "  color: var(--sklearn-color-background);\n",
              "  text-decoration: none;\n",
              "}\n",
              "\n",
              "#sk-container-id-1 a.estimator_doc_link.fitted:hover {\n",
              "  /* fitted */\n",
              "  background-color: var(--sklearn-color-fitted-level-3);\n",
              "}\n",
              "</style><div id=\"sk-container-id-1\" class=\"sk-top-container\"><div class=\"sk-text-repr-fallback\"><pre>RandomForestClassifier(min_samples_split=20, n_estimators=300)</pre><b>In a Jupyter environment, please rerun this cell to show the HTML representation or trust the notebook. <br />On GitHub, the HTML representation is unable to render, please try loading this page with nbviewer.org.</b></div><div class=\"sk-container\" hidden><div class=\"sk-item\"><div class=\"sk-estimator fitted sk-toggleable\"><input class=\"sk-toggleable__control sk-hidden--visually\" id=\"sk-estimator-id-1\" type=\"checkbox\" checked><label for=\"sk-estimator-id-1\" class=\"sk-toggleable__label fitted sk-toggleable__label-arrow fitted\">&nbsp;&nbsp;RandomForestClassifier<a class=\"sk-estimator-doc-link fitted\" rel=\"noreferrer\" target=\"_blank\" href=\"https://scikit-learn.org/1.5/modules/generated/sklearn.ensemble.RandomForestClassifier.html\">?<span>Documentation for RandomForestClassifier</span></a><span class=\"sk-estimator-doc-link fitted\">i<span>Fitted</span></span></label><div class=\"sk-toggleable__content fitted\"><pre>RandomForestClassifier(min_samples_split=20, n_estimators=300)</pre></div> </div></div></div></div>"
            ]
          },
          "metadata": {},
          "execution_count": 8
        }
      ],
      "source": [
        "model = SVC()\n",
        "model.fit(X_train, Y_train)\n",
        "model = RandomForestClassifier(n_estimators=300, min_samples_split=20) # modell létrehozása\n",
        "model.fit(X_train, Y_train) # modell tanítása"
      ]
    },
    {
      "cell_type": "markdown",
      "metadata": {
        "id": "wEm1gjedIv2R"
      },
      "source": [
        "6.3. Értékelni kell a modellt:"
      ]
    },
    {
      "cell_type": "code",
      "execution_count": null,
      "metadata": {
        "colab": {
          "base_uri": "https://localhost:8080/"
        },
        "id": "RBgmVh6EIzJc",
        "outputId": "359baecf-9085-4878-aea0-2d65f7c231d4"
      },
      "outputs": [
        {
          "output_type": "stream",
          "name": "stdout",
          "text": [
            "Model accuracy: 51.32%\n"
          ]
        }
      ],
      "source": [
        "accuracy = model.score(X_test, Y_test)\n",
        "print(f'Model accuracy: {accuracy * 100:.2f}%')"
      ]
    },
    {
      "cell_type": "markdown",
      "metadata": {
        "id": "uMFPwsB_KIQt"
      },
      "source": [
        "7.Megjósolja az új felhasználó bevitelének szándékát (melyik kategóriház tartozik):"
      ]
    },
    {
      "cell_type": "code",
      "execution_count": null,
      "metadata": {
        "colab": {
          "base_uri": "https://localhost:8080/"
        },
        "id": "o5r9rbo_Ko5i",
        "outputId": "d789a36e-b091-454f-e57d-f73853aa812f"
      },
      "outputs": [
        {
          "output_type": "stream",
          "name": "stdout",
          "text": [
            "A chatbot válasza a következő szándékon alapul: vicc\n"
          ]
        }
      ],
      "source": [
        "def predict_intent(user_input):\n",
        "    # Felhasználói bemenet vektorizálása\n",
        "    user_input_cleaned = ' '.join(preprocess_hungarian_text(user_input))\n",
        "    user_input_vector = vectorizer.transform([user_input_cleaned]).toarray()\n",
        "\n",
        "    # Megjósolja a címkéket (y)\n",
        "    intent_label_encoded = model.predict(user_input_vector)[0]\n",
        "\n",
        "    # Numerikus címkét visszaalakítja az eredetire\n",
        "    intent_tag = encoder.inverse_transform([intent_label_encoded])[0]\n",
        "\n",
        "    return intent_tag\n",
        "\n",
        "user_input = \"Mondj egy viccet\"\n",
        "predicted_intent = predict_intent(user_input)\n",
        "print(f'A chatbot válasza a következő szándékon alapul: {predicted_intent}')"
      ]
    },
    {
      "cell_type": "markdown",
      "metadata": {
        "id": "k-O19kqZ1bPh"
      },
      "source": [
        "8. Válaszok lekérése az intents file-ból (véletlenszerű választ kérhetünk le az intent.json fájl megfelelő listájáról.):"
      ]
    },
    {
      "cell_type": "code",
      "execution_count": null,
      "metadata": {
        "id": "sXPNVsLR1f6m"
      },
      "outputs": [],
      "source": [
        "def get_response(intent_tag):\n",
        "    #print(f\"Megjósolt címke: {intent_tag}\")\n",
        "\n",
        "    for intent in intents['intents']:\n",
        "        #print(f\"Címkék keresése: {intent['tag']}\")\n",
        "\n",
        "        if intent['tag'] == intent_tag:\n",
        "           # print(f\"Találat a címkék közül: {intent['tag']}\")\n",
        "            return random.choice(intent['responses'])\n",
        "\n",
        "    # Ha nem található egyezés\n",
        "    return \"Bocsánat, de nem értettem\""
      ]
    },
    {
      "cell_type": "markdown",
      "metadata": {
        "id": "TIx4UhpO3Q1O"
      },
      "source": [
        "9. Chatbot tesztelése:"
      ]
    },
    {
      "cell_type": "code",
      "execution_count": null,
      "metadata": {
        "colab": {
          "base_uri": "https://localhost:8080/"
        },
        "id": "ub2kGUPg3QbZ",
        "outputId": "9d381a31-dd5f-4a07-85d2-10733a304083"
      },
      "outputs": [
        {
          "name": "stdout",
          "output_type": "stream",
          "text": [
            "Te: Szia!\n",
            "Bot: Helló! Mi járatban vagy?\n",
            "Te: Tudnál segíteni?\n",
            "Bot: Természetesen! Hogyan segíthetek?\n",
            "Te: Milyen lesz az időjárás holnap?\n",
            "Bot: Ma szél várható, ne felejts el kabátot hozni!\n",
            "Te: Köszönöm a segítséget\n",
            "Bot: Bármikor, örülök, hogy segíthettem!\n",
            "Te: VISZLÁT\n",
            "Bot: Jó éjszakát! Szép álmokat!\n",
            "Te: kilépés\n"
          ]
        }
      ],
      "source": [
        "intent_map = {i: tag for i, tag in enumerate(encoder.classes_)}\n",
        "while True:\n",
        "    user_input = input(\"Te: \")\n",
        "    if user_input.lower() == \"kilépés\":\n",
        "        break\n",
        "\n",
        "    # Felhasználói bevitel előfeldolgozása\n",
        "    cleaned_input = ' '.join(preprocess_hungarian_text(user_input))\n",
        "\n",
        "    # Szándék megjósolása\n",
        "    predicted_intent = model.predict(vectorizer.transform([cleaned_input]))[0]\n",
        "\n",
        "    # Válasz kiírása\n",
        "    response = get_response(intent_map[predicted_intent])\n",
        "    print(f\"Bot: {response}\")"
      ]
    }
  ],
  "metadata": {
    "colab": {
      "provenance": []
    },
    "kernelspec": {
      "display_name": "Python 3",
      "name": "python3"
    },
    "language_info": {
      "name": "python"
    }
  },
  "nbformat": 4,
  "nbformat_minor": 0
}